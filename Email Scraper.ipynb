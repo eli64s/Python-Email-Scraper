{
 "cells": [
  {
   "cell_type": "markdown",
   "metadata": {},
   "source": [
    "# Overview"
   ]
  },
  {
   "cell_type": "markdown",
   "metadata": {},
   "source": [
    "This notebook extracts unstructured data from Microsoft Outlook emails regarding Travel Waivers\n",
    "that United Airlines sends out related to events/weather/etc. that may impact travel. \n",
    "\n",
    "The email data is cleaned and manipulated into a DataFrame that includes the Travel Waiver's\n",
    "date sent, event name, severity level, cities impacted, and dates affected. \n",
    "\n",
    "The code can be broken down into the following 3 sections:\n",
    "\n",
    "    1. Scrape Outlook to collect all Travel Waiver emails\n",
    "    2. Create classes/functions to parse data from email \n",
    "    3. Iterate over the data set to clean and structure it\n",
    "\n",
    "Over time, the collection of this data may yield some interesting insights into events that impact travel.\n",
    "Feel free to ask questions or leave suggestions/critique, I love to learn other's approaches to problems!"
   ]
  },
  {
   "cell_type": "markdown",
   "metadata": {},
   "source": [
    "### The image below is an example of the email being scraped and my mailbox had over a year's worth of Travel Waiver emails "
   ]
  },
  {
   "cell_type": "markdown",
   "metadata": {},
   "source": [
    "![TravelWaiverImage](https://raw.githubusercontent.com/eli64s/Python-Email-Scraper/master/travel_waiver.PNG)"
   ]
  },
  {
   "cell_type": "markdown",
   "metadata": {},
   "source": [
    "As most of you do not have access to these Travel Waiver emails, I have provided the email subject and body strings in the following cell from the example Travel Waiver image above. "
   ]
  },
  {
   "cell_type": "markdown",
   "metadata": {},
   "source": [
    "#### Use these strings to test the notebook on your own!"
   ]
  },
  {
   "cell_type": "code",
   "execution_count": 1,
   "metadata": {},
   "outputs": [],
   "source": [
    "# The following strings come from the example Travel Waiver email above  \n",
    "email_subject_example = 'Travel Waiver (SEV2) Typhoon Lingling - 09/05/19'\n",
    "email_body_example = \"\"\"Travel Waiver: Typhoon Lingling\n",
    "SEV 2\n",
    "We have implemented a travel waiver for Seoul, South Korea due to Typhoon Lingling.\n",
    "*    Cities: ICN\n",
    "*    Travel date(s): September 6 - 7, 2019\n",
    "*\tMust be ticketed by: September 4, 2019\n",
    "Avoid affected city on connections, if possible.\n",
    "Permitted changes\n",
    "*      Same origin and destination\n",
    "*      Any booking code in originally ticketed cabin\n",
    "*      Different connection\n",
    "*      Rebook only permitted on UA/UAX \n",
    "Standby\n",
    "Same day confirmed \n",
    "Alternate day confirmed\n",
    "*    Rescheduled travel up to/including September 14, 2019\n",
    "Reuse ticket or coupon(s)\n",
    "*    Use full value of unused ticket/coupon(s) for another itinerary within ticket validity\n",
    "*    New itinerary can be any cities and cabin\n",
    "*    Subject to add-collect of new fare\n",
    "What’s waived?\n",
    "Standby fee\n",
    "Change fee: Same or alternate dates listed above\n",
    "Add-collect: Within rescheduled travel dates listed above\n",
    "Travel agency waiver code: 7JC5U \n",
    "ATRE and DRS: TRAVEL WAIVER have been updated. United.com will be updated shortly.\n",
    "Reminder: Flights that are already canceled or delayed fall under the Irregular Operations policy.\n",
    "Goal: Same day travel flexibility | Close-in change at no cost |\n",
    "Use full value of unused ticket or coupon(s) for another itinerary by September 4, 2020\"\"\""
   ]
  },
  {
   "cell_type": "markdown",
   "metadata": {},
   "source": [
    "# Outlook Setup"
   ]
  },
  {
   "cell_type": "code",
   "execution_count": 2,
   "metadata": {},
   "outputs": [],
   "source": [
    "import pandas as pd\n",
    "import win32com.client\n",
    " \n",
    "outlook = win32com.client.Dispatch(\"Outlook.Application\").GetNamespace(\"MAPI\")\n",
    "inbox = outlook.GetDefaultFolder(6) # '6' refers to the index of a folder \n",
    "messages = inbox.Items              # Get all items in the Inbox folder"
   ]
  },
  {
   "cell_type": "markdown",
   "metadata": {},
   "source": [
    "### Retrieve Mailbox Messages"
   ]
  },
  {
   "cell_type": "markdown",
   "metadata": {},
   "source": [
    "#### Iterate over the messages in the mailbox, storing the extracted data in a Dictionary "
   ]
  },
  {
   "cell_type": "code",
   "execution_count": 3,
   "metadata": {},
   "outputs": [
    {
     "name": "stdout",
     "output_type": "stream",
     "text": [
      "<unknown>.SenderName\n",
      "<unknown>.SenderName\n",
      "<unknown>.SenderName\n",
      "<unknown>.SenderName\n",
      "<unknown>.SenderName\n",
      "<unknown>.SenderName\n",
      "<unknown>.SenderName\n",
      "<unknown>.SenderName\n",
      "<unknown>.SenderName\n",
      "<unknown>.SenderName\n"
     ]
    }
   ],
   "source": [
    "travel_waivers = {} # Dictionary{} to store email data - send date, title, body text\n",
    "key_val = 0         # key value for Dictionary{}\n",
    "\n",
    "for message in messages:\n",
    "    '''\n",
    "    Iterate over messages to collect data from each email belonging to\n",
    "    SenderName - 'Travel Waivers'\n",
    "    Try/Except statements are used as some emails have an unknown SenderName\n",
    "    '''\n",
    "    \n",
    "    try:\n",
    "        if message.SenderName == 'Travel Waivers':\n",
    "            \n",
    "            # Condition is True when the email is a reply to another email\n",
    "            if 'From:' in message.Body:\n",
    "                pass\n",
    "            \n",
    "            # Insert Travel Waiver data into Dictionary{}\n",
    "            else:\n",
    "                travel_waivers[key_val] = {\n",
    "                    'email_title': message.Subject,\n",
    "                    'email_body': message.Body,\n",
    "                    'Date_Sent': message.SentOn.strftime('%Y-%m-%d'),\n",
    "                    'Event': None,\n",
    "                    'Indicator': None,\n",
    "                    'City': None,\n",
    "                    'Start_Date': None,\n",
    "                    'End_Date': None,\n",
    "                    'All_Dates': None\n",
    "                }\n",
    "                key_val += 1\n",
    "            \n",
    "    # Exception occurs when SenderName is unknown\n",
    "    except Exception as error_message:\n",
    "        print(error_message)"
   ]
  },
  {
   "cell_type": "markdown",
   "metadata": {},
   "source": [
    "# Create Classes to Parse Text of Email Body"
   ]
  },
  {
   "cell_type": "code",
   "execution_count": 4,
   "metadata": {},
   "outputs": [],
   "source": [
    "from datetime import datetime, timedelta\n",
    "import calendar\n",
    "import re \n",
    "\n",
    "# Generate a list of calendar months name & number to match against dates in waiver\n",
    "# List[Tuple()] then converted to Dictionary{}\n",
    "month_names = [(calendar.month_name[month], n + 1) for n, month in enumerate(range(1,13))]\n",
    "month_names = dict(month_names)"
   ]
  },
  {
   "cell_type": "markdown",
   "metadata": {},
   "source": [
    "### Parent Class "
   ]
  },
  {
   "cell_type": "code",
   "execution_count": 5,
   "metadata": {},
   "outputs": [],
   "source": [
    "class GetData(object):\n",
    "    '''\n",
    "    This class extracts data from the email's subject and body\n",
    "    '''\n",
    "    def __init__(self, subject, body): \n",
    "        self.subject = subject \n",
    "        self.body = body\n",
    "        \n",
    "    def subject_data(self): \n",
    "        '''\n",
    "        Gets event name and severity indicator from the email's subject\n",
    "        '''\n",
    "        # Travel Waiver Email Subject\n",
    "        subject_name = self.subject.split(')')[1]    \n",
    "        self.subject_name = subject_name.split('-')[0].strip()\n",
    "        \n",
    "        # Severity Indicator\n",
    "        ind = self.subject.split()\n",
    "        ind = [i for i in ind if i.startswith('(S')][0]\n",
    "        self.ind = re.sub('[()]', '', ind)\n",
    "    \n",
    "        \n",
    "    def body_data(self):\n",
    "        '''\n",
    "        Gets two substrings from the email's body containing the city and date data\n",
    "        '''\n",
    "        text = self.body\n",
    "        # Extract substring with Travel Waiver's cities\n",
    "        start_word = re.findall(r\"City:|Cities:\", text)[0]              \n",
    "        end_word = re.findall(r\"Travel date:|Travel date\\(s\\):|Travel dates:\", text)[0]\n",
    "        self.city_text = text[text.find(start_word) + len(start_word): text.rfind(end_word)]\n",
    "    \n",
    "        # Extract substring with Travel Waiver's date range\n",
    "        start_word = re.findall(r\"Travel date:|Travel date\\(s\\):|Travel dates:\", text)[0]\n",
    "        end_word = re.findall(', \\d{4}', text)[0]   # Regex to find the ', YYYY'\n",
    "        end_word = text.split(end_word, 1)[1]       # Gets entire string after ', YYYY'\n",
    "        self.dates_text = text[text.find(start_word) + len(start_word): text.rfind(end_word)]\n",
    "        "
   ]
  },
  {
   "cell_type": "markdown",
   "metadata": {},
   "source": [
    "### Child Class"
   ]
  },
  {
   "cell_type": "code",
   "execution_count": 6,
   "metadata": {},
   "outputs": [],
   "source": [
    "class CleanData(GetData):\n",
    "    '''\n",
    "    Extracts the data for the Travel Waiver's affected cities and dates\n",
    "    '''\n",
    "    \n",
    "    def __init__(self, city_text, dates_text): \n",
    "        self.city_text = city_text\n",
    "        self.dates_text = dates_text\n",
    "        \n",
    "        \n",
    "    def get_cities(self):\n",
    "        '''\n",
    "        This function gets the substring of city codes and returns list of city codes\n",
    "        '''\n",
    "        text = self.city_text\n",
    "        cities = text.strip('/')                              # Strip '/' from substring\n",
    "        cities = ''.join(ch for ch in cities if ch.isalnum()) # Delete non-alphanumeric characters\n",
    "        \n",
    "        return [cities[i:i + 3] for i in range(0, len(cities), 3)] # Create list of cities\n",
    "    \n",
    "    \n",
    "    def get_dates(self):\n",
    "        '''\n",
    "        This function gets substring of the Travel Waiver's issued date range \n",
    "        Returns the start date, end date, and list of all dates every in the range\n",
    "        '''\n",
    "        text = self.dates_text\n",
    "        months = [m for m in month_names if m in text]           # Travel Waiver's month(s) \n",
    "        days_and_year = list(map(int, re.findall(r'\\d+', text))) # Regex to get numeric values\n",
    "        year = days_and_year[-1]                                 # Travel Waiver's year \n",
    "        days = days_and_year[:-1]                                # Travel Waiver's day range\n",
    "        start_day = days[0]                                      # Start day\n",
    "        end_day = days[-1]                                       # End day\n",
    "\n",
    "        # Condition for Travel Waivers spanning multiple months: ex) 'September 30 – October 2, 2019'\n",
    "        if len(days) == 2 and len(months) == 2:\n",
    "            start_month = int(month_names[months[0]])   # Starting month number \n",
    "            end_month = int(month_names[months[1]])     # Ending month number\n",
    "            \n",
    "        # Condition for Travel Waivers spanning multiple days: ex) 'August 25 - 27'\n",
    "        # or single day events\n",
    "        else:\n",
    "            start_month = int(month_names[months[0]])\n",
    "            end_month = start_month\n",
    "\n",
    "        day_range = (datetime(year, end_month, end_day) - datetime(year, start_month, start_day)).days      \n",
    "        date_range_list = [(datetime(year, start_month, start_day) + \\\n",
    "                            timedelta(days = d)).strftime('%Y-%m-%d') for d in range(day_range + 1)]\n",
    "        start_date = date_range_list[0]                                # Start date in trange\n",
    "        end_date = date_range_list[-1]                                 # Last date in range\n",
    "\n",
    "        return start_date, end_date, date_range_list"
   ]
  },
  {
   "cell_type": "markdown",
   "metadata": {},
   "source": [
    "### Example Objects Using the Classes Above"
   ]
  },
  {
   "cell_type": "markdown",
   "metadata": {},
   "source": [
    "##### Using the example data provided at the top of the notebook!"
   ]
  },
  {
   "cell_type": "code",
   "execution_count": 7,
   "metadata": {},
   "outputs": [
    {
     "name": "stdout",
     "output_type": "stream",
     "text": [
      "Typhoon Lingling \n",
      "\n",
      "SEV2 \n",
      "\n",
      "['ICN'] \n",
      "\n",
      "('2019-09-06', '2019-09-07', ['2019-09-06', '2019-09-07']) \n",
      "\n"
     ]
    }
   ],
   "source": [
    "# GetData() Parent Class - gets Travel Waiver email subject data\n",
    "event_info = GetData(email_subject_example, email_body_example)\n",
    "event_info.subject_data()\n",
    "event_name = event_info.subject_name\n",
    "indicator = event_info.ind\n",
    "\n",
    "# CleanData() Child Class - gets Travel Waiver email body data\n",
    "event_info.body_data()\n",
    "cities_dates = CleanData(\n",
    "event_info.city_text,\n",
    "event_info.dates_text\n",
    ")\n",
    "\n",
    "print(event_name, '\\n')\n",
    "print(indicator, '\\n')\n",
    "print(cities_dates.get_cities(), '\\n')\n",
    "print(cities_dates.get_dates(), '\\n')"
   ]
  },
  {
   "cell_type": "markdown",
   "metadata": {},
   "source": [
    "# Create Data Set"
   ]
  },
  {
   "cell_type": "code",
   "execution_count": 8,
   "metadata": {},
   "outputs": [],
   "source": [
    "for value in travel_waivers:\n",
    "    '''\n",
    "    Create Travel Waiver objects using the GetData() & CleanData() classes\n",
    "    '''\n",
    "    email_subject = travel_waivers[value]['email_title']\n",
    "    email_body = travel_waivers[value]['email_body']\n",
    "    \n",
    "    # GetData() Parent Class - gets Travel Waiver email subject data\n",
    "    event_info = GetData(email_subject, email_body)\n",
    "    event_info.subject_data()\n",
    "    event_name = event_info.subject_name\n",
    "    indicator = event_info.ind\n",
    "    \n",
    "    # CleanData() Child Class - gets Travel Waiver email body data\n",
    "    event_info.body_data()\n",
    "    cities_dates = CleanData(\n",
    "    event_info.city_text,\n",
    "    event_info.dates_text\n",
    ")\n",
    "    cities = cities_dates.get_cities()  # Cities\n",
    "    dates = cities_dates.get_dates()    # Dates\n",
    "    start = dates[0]                    # Start Date\n",
    "    end = dates[1]                      # End Date\n",
    "    all_dates = dates[2]                # List of all dates\n",
    "\n",
    "    # Update dictionary values\n",
    "    travel_waivers[value]['Event'] = event_name\n",
    "    travel_waivers[value]['Indicator'] = indicator\n",
    "    travel_waivers[value]['City'] = cities\n",
    "    travel_waivers[value]['Start_Date'] = start\n",
    "    travel_waivers[value]['End_Date'] = end\n",
    "    travel_waivers[value]['All_Dates'] = all_dates"
   ]
  },
  {
   "cell_type": "markdown",
   "metadata": {},
   "source": [
    "# Prepare Final Data for Output"
   ]
  },
  {
   "cell_type": "code",
   "execution_count": 9,
   "metadata": {},
   "outputs": [],
   "source": [
    "# Convert the Dictionary with the data to DataFrame\n",
    "travel_waiver_data = pd.DataFrame.from_dict(travel_waivers, orient = 'index')\n",
    "\n",
    "# Drop the columns that contained the original scraped date ['email_title', 'email_body']\n",
    "travel_waiver_data = travel_waiver_data[[\n",
    "    'Date_Sent', \n",
    "    'Event',\n",
    "    'Indicator', \n",
    "    'City',\n",
    "    'Start_Date',\n",
    "    'End_Date',\n",
    "    'All_Dates'\n",
    "    ]]"
   ]
  },
  {
   "cell_type": "code",
   "execution_count": 10,
   "metadata": {
    "scrolled": true
   },
   "outputs": [],
   "source": [
    "# explode() function takes a DataFrame column and creates a new row for each item  \n",
    "travel_waiver_data_expanded = travel_waiver_data.explode('City')\n",
    "travel_waiver_data_expanded = travel_waiver_data_expanded.explode('All_Dates')\n",
    "travel_waiver_data_expanded = travel_waiver_data_expanded.drop_duplicates().reset_index(drop = True)"
   ]
  },
  {
   "cell_type": "markdown",
   "metadata": {},
   "source": [
    "#### Save DataFrame as .csv file"
   ]
  },
  {
   "cell_type": "code",
   "execution_count": 11,
   "metadata": {},
   "outputs": [],
   "source": [
    "today = datetime.now().strftime('%Y%m%d')\n",
    "save_path = 'travel_waivers_' + today + '.csv'\n",
    "travel_waiver_data_expanded.to_csv(save_path, index = False)"
   ]
  },
  {
   "cell_type": "code",
   "execution_count": 12,
   "metadata": {},
   "outputs": [
    {
     "data": {
      "text/html": [
       "<div>\n",
       "<style scoped>\n",
       "    .dataframe tbody tr th:only-of-type {\n",
       "        vertical-align: middle;\n",
       "    }\n",
       "\n",
       "    .dataframe tbody tr th {\n",
       "        vertical-align: top;\n",
       "    }\n",
       "\n",
       "    .dataframe thead th {\n",
       "        text-align: right;\n",
       "    }\n",
       "</style>\n",
       "<table border=\"1\" class=\"dataframe\">\n",
       "  <thead>\n",
       "    <tr style=\"text-align: right;\">\n",
       "      <th></th>\n",
       "      <th>Date_Sent</th>\n",
       "      <th>Event</th>\n",
       "      <th>Indicator</th>\n",
       "      <th>City</th>\n",
       "      <th>Start_Date</th>\n",
       "      <th>End_Date</th>\n",
       "      <th>All_Dates</th>\n",
       "    </tr>\n",
       "  </thead>\n",
       "  <tbody>\n",
       "    <tr>\n",
       "      <td>0</td>\n",
       "      <td>2018-12-20</td>\n",
       "      <td>New York Area Inclement Weather</td>\n",
       "      <td>SEV1+</td>\n",
       "      <td>EWR</td>\n",
       "      <td>2018-12-21</td>\n",
       "      <td>2018-12-21</td>\n",
       "      <td>2018-12-21</td>\n",
       "    </tr>\n",
       "    <tr>\n",
       "      <td>1</td>\n",
       "      <td>2018-12-20</td>\n",
       "      <td>New York Area Inclement Weather</td>\n",
       "      <td>SEV1+</td>\n",
       "      <td>HPN</td>\n",
       "      <td>2018-12-21</td>\n",
       "      <td>2018-12-21</td>\n",
       "      <td>2018-12-21</td>\n",
       "    </tr>\n",
       "    <tr>\n",
       "      <td>2</td>\n",
       "      <td>2018-12-20</td>\n",
       "      <td>New York Area Inclement Weather</td>\n",
       "      <td>SEV1+</td>\n",
       "      <td>JFK</td>\n",
       "      <td>2018-12-21</td>\n",
       "      <td>2018-12-21</td>\n",
       "      <td>2018-12-21</td>\n",
       "    </tr>\n",
       "    <tr>\n",
       "      <td>3</td>\n",
       "      <td>2018-12-20</td>\n",
       "      <td>New York Area Inclement Weather</td>\n",
       "      <td>SEV1+</td>\n",
       "      <td>LGA</td>\n",
       "      <td>2018-12-21</td>\n",
       "      <td>2018-12-21</td>\n",
       "      <td>2018-12-21</td>\n",
       "    </tr>\n",
       "    <tr>\n",
       "      <td>4</td>\n",
       "      <td>2018-12-25</td>\n",
       "      <td>Northern Plains Winter Weather</td>\n",
       "      <td>SEV1+</td>\n",
       "      <td>BIS</td>\n",
       "      <td>2018-12-26</td>\n",
       "      <td>2018-12-27</td>\n",
       "      <td>2018-12-26</td>\n",
       "    </tr>\n",
       "    <tr>\n",
       "      <td>...</td>\n",
       "      <td>...</td>\n",
       "      <td>...</td>\n",
       "      <td>...</td>\n",
       "      <td>...</td>\n",
       "      <td>...</td>\n",
       "      <td>...</td>\n",
       "      <td>...</td>\n",
       "    </tr>\n",
       "    <tr>\n",
       "      <td>1973</td>\n",
       "      <td>2019-12-06</td>\n",
       "      <td>Marshall Islands Vaccination Requirements</td>\n",
       "      <td>SEV1+</td>\n",
       "      <td>MAJ</td>\n",
       "      <td>2019-12-09</td>\n",
       "      <td>2019-12-31</td>\n",
       "      <td>2019-12-27</td>\n",
       "    </tr>\n",
       "    <tr>\n",
       "      <td>1974</td>\n",
       "      <td>2019-12-06</td>\n",
       "      <td>Marshall Islands Vaccination Requirements</td>\n",
       "      <td>SEV1+</td>\n",
       "      <td>MAJ</td>\n",
       "      <td>2019-12-09</td>\n",
       "      <td>2019-12-31</td>\n",
       "      <td>2019-12-28</td>\n",
       "    </tr>\n",
       "    <tr>\n",
       "      <td>1975</td>\n",
       "      <td>2019-12-06</td>\n",
       "      <td>Marshall Islands Vaccination Requirements</td>\n",
       "      <td>SEV1+</td>\n",
       "      <td>MAJ</td>\n",
       "      <td>2019-12-09</td>\n",
       "      <td>2019-12-31</td>\n",
       "      <td>2019-12-29</td>\n",
       "    </tr>\n",
       "    <tr>\n",
       "      <td>1976</td>\n",
       "      <td>2019-12-06</td>\n",
       "      <td>Marshall Islands Vaccination Requirements</td>\n",
       "      <td>SEV1+</td>\n",
       "      <td>MAJ</td>\n",
       "      <td>2019-12-09</td>\n",
       "      <td>2019-12-31</td>\n",
       "      <td>2019-12-30</td>\n",
       "    </tr>\n",
       "    <tr>\n",
       "      <td>1977</td>\n",
       "      <td>2019-12-06</td>\n",
       "      <td>Marshall Islands Vaccination Requirements</td>\n",
       "      <td>SEV1+</td>\n",
       "      <td>MAJ</td>\n",
       "      <td>2019-12-09</td>\n",
       "      <td>2019-12-31</td>\n",
       "      <td>2019-12-31</td>\n",
       "    </tr>\n",
       "  </tbody>\n",
       "</table>\n",
       "<p>1978 rows × 7 columns</p>\n",
       "</div>"
      ],
      "text/plain": [
       "       Date_Sent                                      Event Indicator City  \\\n",
       "0     2018-12-20            New York Area Inclement Weather     SEV1+  EWR   \n",
       "1     2018-12-20            New York Area Inclement Weather     SEV1+  HPN   \n",
       "2     2018-12-20            New York Area Inclement Weather     SEV1+  JFK   \n",
       "3     2018-12-20            New York Area Inclement Weather     SEV1+  LGA   \n",
       "4     2018-12-25             Northern Plains Winter Weather     SEV1+  BIS   \n",
       "...          ...                                        ...       ...  ...   \n",
       "1973  2019-12-06  Marshall Islands Vaccination Requirements     SEV1+  MAJ   \n",
       "1974  2019-12-06  Marshall Islands Vaccination Requirements     SEV1+  MAJ   \n",
       "1975  2019-12-06  Marshall Islands Vaccination Requirements     SEV1+  MAJ   \n",
       "1976  2019-12-06  Marshall Islands Vaccination Requirements     SEV1+  MAJ   \n",
       "1977  2019-12-06  Marshall Islands Vaccination Requirements     SEV1+  MAJ   \n",
       "\n",
       "      Start_Date    End_Date   All_Dates  \n",
       "0     2018-12-21  2018-12-21  2018-12-21  \n",
       "1     2018-12-21  2018-12-21  2018-12-21  \n",
       "2     2018-12-21  2018-12-21  2018-12-21  \n",
       "3     2018-12-21  2018-12-21  2018-12-21  \n",
       "4     2018-12-26  2018-12-27  2018-12-26  \n",
       "...          ...         ...         ...  \n",
       "1973  2019-12-09  2019-12-31  2019-12-27  \n",
       "1974  2019-12-09  2019-12-31  2019-12-28  \n",
       "1975  2019-12-09  2019-12-31  2019-12-29  \n",
       "1976  2019-12-09  2019-12-31  2019-12-30  \n",
       "1977  2019-12-09  2019-12-31  2019-12-31  \n",
       "\n",
       "[1978 rows x 7 columns]"
      ]
     },
     "execution_count": 12,
     "metadata": {},
     "output_type": "execute_result"
    }
   ],
   "source": [
    "travel_waiver_data_expanded"
   ]
  },
  {
   "cell_type": "code",
   "execution_count": null,
   "metadata": {},
   "outputs": [],
   "source": []
  }
 ],
 "metadata": {
  "kernelspec": {
   "display_name": "Python 3",
   "language": "python",
   "name": "python3"
  },
  "language_info": {
   "codemirror_mode": {
    "name": "ipython",
    "version": 3
   },
   "file_extension": ".py",
   "mimetype": "text/x-python",
   "name": "python",
   "nbconvert_exporter": "python",
   "pygments_lexer": "ipython3",
   "version": "3.7.4"
  }
 },
 "nbformat": 4,
 "nbformat_minor": 2
}
