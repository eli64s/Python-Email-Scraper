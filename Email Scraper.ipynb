{
 "cells": [
  {
   "cell_type": "markdown",
   "metadata": {},
   "source": [
    "# Overview"
   ]
  },
  {
   "cell_type": "markdown",
   "metadata": {},
   "source": [
    "This notebook extracts unstructured data from Microsoft Outlook emails regarding Travel Waivers\n",
    "that United Airlines sends out related to events/weather/etc. that may impact travel. \n",
    "\n",
    "The email data is cleaned and manipulated into a DataFrame that includes the Travel Waiver's\n",
    "date sent, event name, severity level, cities impacted, and dates affected. \n",
    "\n",
    "The code can be broken down into the following 3 sections:\n",
    "\n",
    "    1. Scrape Outlook to collect all Travel Waiver emails\n",
    "    2. Create functions used to parse the email's body text \n",
    "    3. Iterate over the data set to clean and structure data\n",
    "\n",
    "Over time, the collection of this data may yield some interesting insights into events that impact travel.\n",
    "Feel free to ask questions or leave suggestions/critique, I love to learn other's approaches to problems!"
   ]
  },
  {
   "cell_type": "markdown",
   "metadata": {},
   "source": [
    "### The image below is an example of the email being scraped and my mailbox had over a year's worth of Travel Waiver emails "
   ]
  },
  {
   "cell_type": "markdown",
   "metadata": {},
   "source": [
    "![TravelWaiverImage](https://raw.githubusercontent.com/eli64s/Python-Email-Scraper/master/travel_waiver.PNG)"
   ]
  },
  {
   "cell_type": "raw",
   "metadata": {},
   "source": [
    "As most of you do not have access to these Travel Waiver emails, I have provided the email subject and body strings in the following cell from the example Travel Waiver image above. "
   ]
  },
  {
   "cell_type": "markdown",
   "metadata": {},
   "source": [
    "#### Use these strings to test the notebook on your own!"
   ]
  },
  {
   "cell_type": "code",
   "execution_count": 1,
   "metadata": {},
   "outputs": [],
   "source": [
    "# The following strings come from the example Travel Waiver email above  \n",
    "email_subject_example = 'Travel Waiver (SEV2) Typhoon Lingling - 09/05/19'\n",
    "email_body_example = \"\"\"Travel Waiver: Typhoon Lingling\n",
    "SEV 2\n",
    "We have implemented a travel waiver for Seoul, South Korea due to Typhoon Lingling.\n",
    "*    Cities: ICN\n",
    "*    Travel date(s): September 6 - 7, 2019\n",
    "*\tMust be ticketed by: September 4, 2019\n",
    "Avoid affected city on connections, if possible.\n",
    "Permitted changes\n",
    "*      Same origin and destination\n",
    "*      Any booking code in originally ticketed cabin\n",
    "*      Different connection\n",
    "*      Rebook only permitted on UA/UAX \n",
    "Standby\n",
    "Same day confirmed \n",
    "Alternate day confirmed\n",
    "*    Rescheduled travel up to/including September 14, 2019\n",
    "Reuse ticket or coupon(s)\n",
    "*    Use full value of unused ticket/coupon(s) for another itinerary within ticket validity\n",
    "*    New itinerary can be any cities and cabin\n",
    "*    Subject to add-collect of new fare\n",
    "What’s waived?\n",
    "Standby fee\n",
    "Change fee: Same or alternate dates listed above\n",
    "Add-collect: Within rescheduled travel dates listed above\n",
    "Travel agency waiver code: 7JC5U \n",
    "ATRE and DRS: TRAVEL WAIVER have been updated. United.com will be updated shortly.\n",
    "Reminder: Flights that are already canceled or delayed fall under the Irregular Operations policy.\n",
    "Goal: Same day travel flexibility | Close-in change at no cost |\n",
    "Use full value of unused ticket or coupon(s) for another itinerary by September 4, 2020\"\"\""
   ]
  },
  {
   "cell_type": "markdown",
   "metadata": {},
   "source": [
    "# Outlook Setup"
   ]
  },
  {
   "cell_type": "code",
   "execution_count": 2,
   "metadata": {},
   "outputs": [],
   "source": [
    "import pandas as pd\n",
    "import win32com.client\n",
    " \n",
    "outlook = win32com.client.Dispatch(\"Outlook.Application\").GetNamespace(\"MAPI\")\n",
    "inbox = outlook.GetDefaultFolder(6) # '6' refers to the index of a folder - in this case the Inbox Folder\n",
    "messages = inbox.Items              # Get all items in the Inbox folder"
   ]
  },
  {
   "cell_type": "markdown",
   "metadata": {},
   "source": [
    "### Retrieve Mailbox Messages"
   ]
  },
  {
   "cell_type": "markdown",
   "metadata": {},
   "source": [
    "#### Iterate over the messages in the mailbox, storing the extracted data in a Dictionary "
   ]
  },
  {
   "cell_type": "code",
   "execution_count": 3,
   "metadata": {},
   "outputs": [
    {
     "name": "stdout",
     "output_type": "stream",
     "text": [
      "<unknown>.SenderName\n",
      "<unknown>.SenderName\n",
      "<unknown>.SenderName\n",
      "<unknown>.SenderName\n",
      "<unknown>.SenderName\n",
      "<unknown>.SenderName\n",
      "<unknown>.SenderName\n",
      "<unknown>.SenderName\n",
      "<unknown>.SenderName\n",
      "<unknown>.SenderName\n"
     ]
    }
   ],
   "source": [
    "travel_waivers = {} # Dictionary{} to store email data - send date, title, body text\n",
    "key_val = 0         # key value for Dictionary{}\n",
    "\n",
    "for message in messages:\n",
    "    '''\n",
    "    Iterate over messages to collect data from each email belonging to\n",
    "    SenderName - 'Travel Waivers'\n",
    "    Try/Except statements are used as some emails have an unknown SenderName\n",
    "    '''\n",
    "    \n",
    "    try:\n",
    "        if message.SenderName == 'Travel Waivers':\n",
    "            \n",
    "            # Condition is True when the email is a reply to another email\n",
    "            if 'From:' in message.Body:\n",
    "                pass\n",
    "            \n",
    "            # Insert Travel Waiver data into Dictionary{}\n",
    "            else:\n",
    "                travel_waivers[key_val] = {\n",
    "                    'email_title': message.Subject,\n",
    "                    'email_body': message.Body,\n",
    "                    'Date_Sent': message.SentOn.strftime('%Y-%m-%d'),\n",
    "                    'Event': None,\n",
    "                    'Indicator': None,\n",
    "                    'City': None,\n",
    "                    'Start_Date': None,\n",
    "                    'End_Date': None,\n",
    "                    'All_Dates': None\n",
    "                }\n",
    "                key_val += 1\n",
    "            \n",
    "    # Exception occurs when SenderName is unknown\n",
    "    except Exception as error_message:\n",
    "        print(error_message)"
   ]
  },
  {
   "cell_type": "markdown",
   "metadata": {},
   "source": [
    "# Create Functions to Parse Text of Email Body"
   ]
  },
  {
   "cell_type": "markdown",
   "metadata": {},
   "source": [
    "#### Function: Returns event name and severity indicator from the email title"
   ]
  },
  {
   "cell_type": "code",
   "execution_count": 4,
   "metadata": {},
   "outputs": [],
   "source": [
    "import re\n",
    "\n",
    "def clean_title(text):\n",
    "    '''\n",
    "    Function that takes the email subject and extracts the \n",
    "    Travel Waiver event name and severity indicator \n",
    "    '''\n",
    "    \n",
    "    # Email subjects are uniform, with the event name following ')' \n",
    "    event_name = text.split(')')[1]    \n",
    "    event_name = event_name.split('-')[0].strip()\n",
    "    \n",
    "    # All severity indicators start with '(S'  - example: 'SEV1' \n",
    "    ind = text.split()\n",
    "    ind = [i for i in ind if i.startswith('(S')][0]\n",
    "    ind = re.sub('[()]', '', ind)\n",
    "    \n",
    "    return event_name, ind"
   ]
  },
  {
   "cell_type": "markdown",
   "metadata": {},
   "source": [
    "#### Example output of clean_title() function using the provided email subject example"
   ]
  },
  {
   "cell_type": "code",
   "execution_count": 5,
   "metadata": {},
   "outputs": [
    {
     "name": "stdout",
     "output_type": "stream",
     "text": [
      "Original Email Subject: Travel Waiver (SEV2) Typhoon Lingling - 09/05/19\n",
      "\n",
      "Result:\n",
      "Event Name: Typhoon Lingling\n",
      "Indicator: SEV2\n"
     ]
    }
   ],
   "source": [
    "print('Original Email Subject: {}\\n\\nResult:'.format(email_subject_example))\n",
    "print('Event Name: {}'.format(clean_title(email_subject_example)[0]))\n",
    "print('Indicator: {}'.format(clean_title(email_subject_example)[1]))"
   ]
  },
  {
   "cell_type": "markdown",
   "metadata": {},
   "source": [
    "####  Function: Returns a substring between two words using regular expressions"
   ]
  },
  {
   "cell_type": "code",
   "execution_count": 6,
   "metadata": {},
   "outputs": [],
   "source": [
    "def string_search(text, start_word, end_word):\n",
    "    '''\n",
    "    This function returns a substring between two words \n",
    "    using regular expressions\n",
    "    '''\n",
    "    \n",
    "    # 'c' and 'd' are arbitrary arguments as placeholders \n",
    "    # This condition extracts substring of city codes in the Travel Waiver \n",
    "    if start_word == 'c':\n",
    "        # Search for substring following City and preceding Travel date\n",
    "        start_word = re.findall(r\"City:|Cities:\", text)[0]              \n",
    "        end_word = re.findall(r\"Travel date:|Travel date\\(s\\):|Travel dates:\", text)[0]\n",
    "\n",
    "    # This condition extracts substring of dates in the Travel Waiver\n",
    "    if end_word == 'd':\n",
    "        start_word = re.findall(r\"Travel date:|Travel date\\(s\\):|Travel dates:\", text)[0]\n",
    "        end_word = re.findall(', \\d{4}', text)[0]   # Regex to find the ', YYYY'\n",
    "        end_word = text.split(end_word, 1)[1]       # Gets entire string after ', YYYY'\n",
    "\n",
    "    # Use starting and ending word to extract substring with desired data  \n",
    "    substring_data = text[text.find(start_word) + len(start_word): text.rfind(end_word)]\n",
    "   \n",
    "    return substring_data"
   ]
  },
  {
   "cell_type": "markdown",
   "metadata": {},
   "source": [
    "#### Example output of string_search() function using the provided email body example"
   ]
  },
  {
   "cell_type": "code",
   "execution_count": 7,
   "metadata": {},
   "outputs": [
    {
     "name": "stdout",
     "output_type": "stream",
     "text": [
      "Original Text:\n",
      "\n",
      " Travel Waiver: Typhoon Lingling\n",
      "SEV 2\n",
      "We have implemented a travel waiver for Seoul, South Korea due to Typhoon Lingling.\n",
      "*    Cities: ICN\n",
      "*    Travel date(s): September 6 - 7, 2019\n",
      "*\tMust be ticketed by: September 4, 2019\n",
      "Avoid affected city on connections, if possible.\n",
      "Permitted changes\n",
      "*      Same origin and destination\n",
      "*      Any booking code in originally ticketed cabin\n",
      "*      Different connection\n",
      "*      Rebook only permitted on UA/UAX \n",
      "Standby\n",
      "Same day confirmed \n",
      "Alternate day confirmed\n",
      "*    Rescheduled travel up to/including September 14, 2019\n",
      "Reuse ticket or coupon(s)\n",
      "*    Use full value of unused ticket/coupon(s) for another itinerary within ticket validity\n",
      "*    New itinerary can be any cities and cabin\n",
      "*    Subject to add-collect of new fare\n",
      "What’s waived?\n",
      "Standby fee\n",
      "Change fee: Same or alternate dates listed above\n",
      "Add-collect: Within rescheduled travel dates listed above\n",
      "Travel agency waiver code: 7JC5U \n",
      "ATRE and DRS: TRAVEL WAIVER have been updated. United.com will be updated shortly.\n",
      "Reminder: Flights that are already canceled or delayed fall under the Irregular Operations policy.\n",
      "Goal: Same day travel flexibility | Close-in change at no cost |\n",
      "Use full value of unused ticket or coupon(s) for another itinerary by September 4, 2020\n",
      "\n",
      "Result:\n",
      "City substring:  ICN\n",
      "*    \n",
      "Date substring:  September 6 - 7, 2019\n"
     ]
    }
   ],
   "source": [
    "print('Original Text:\\n\\n {}\\n\\nResult:'.format(email_body_example))\n",
    "print('City substring: {}'.format(string_search(email_body_example, 'c', 'c')))\n",
    "print('Date substring: {}'.format(string_search(email_body_example, 'd', 'd')))"
   ]
  },
  {
   "cell_type": "markdown",
   "metadata": {},
   "source": [
    "#### Function: Returns a list of the city codes in the given Travel Waiver "
   ]
  },
  {
   "cell_type": "code",
   "execution_count": 8,
   "metadata": {},
   "outputs": [],
   "source": [
    "def clean_cities(text):\n",
    "    '''\n",
    "    This function takes the substring of city codes\n",
    "    that was created from the string_search() function  \n",
    "    Function returns of a list of each 3 character city code\n",
    "    '''\n",
    "    \n",
    "    text.strip('/')                                          # Strip '/' that separates each city code\n",
    "    city_text = ''.join(ch for ch in text if ch.isalnum())        # Delete non-alphanumeric characters\n",
    "    city_text = [city_text[i:i + 3] for i in range(0, len(city_text), 3)]  # Create list of city codes\n",
    "                                                                    \n",
    "    return city_text"
   ]
  },
  {
   "cell_type": "markdown",
   "metadata": {},
   "source": [
    "#### Example output of clean_cities() function"
   ]
  },
  {
   "cell_type": "code",
   "execution_count": 9,
   "metadata": {},
   "outputs": [
    {
     "name": "stdout",
     "output_type": "stream",
     "text": [
      "City Substring: *   CHS / FAY / HHH / ILM / MYR / SAV    *\n",
      "\n",
      "Result:\n",
      "City Codes: ['CHS', 'FAY', 'HHH', 'ILM', 'MYR', 'SAV']\n"
     ]
    }
   ],
   "source": [
    "'''\n",
    "This function example will not use the provided example data\n",
    "as only 1 city was impacted in that Travel Waiver. We want to test this\n",
    "function on a longer list of cities. The following city substring\n",
    "was returned from the string_search() function\n",
    "'''\n",
    "city_substring_example = '*   CHS / FAY / HHH / ILM / MYR / SAV    *'\n",
    "print('City Substring: {}\\n\\nResult:'.format(city_substring_example))\n",
    "print('City Codes: {}'.format(clean_cities(city_substring_example)))"
   ]
  },
  {
   "cell_type": "markdown",
   "metadata": {},
   "source": [
    "#### Function: Returns the issued date range for the Travel Waiver"
   ]
  },
  {
   "cell_type": "code",
   "execution_count": 10,
   "metadata": {},
   "outputs": [],
   "source": [
    "from datetime import datetime, timedelta\n",
    "import calendar\n",
    "\n",
    "# Generate a list of calendar months name & number to match against dates in waiver\n",
    "# List[Tuple()] then converted to Dictionary{}\n",
    "month_names = [(calendar.month_name[month], n + 1) for n, month in enumerate(range(1,13))]\n",
    "month_names = dict(month_names)\n",
    "\n",
    "\n",
    "def get_dates(text):\n",
    "    '''\n",
    "    This function takes the substring from the string_search() function\n",
    "    to get the Travel Waiver's issued date range   '\n",
    "    This function will return the start and end date, along with\n",
    "    a list of every date in that range, all in YYYY-mm-dd format\n",
    "    '''\n",
    "    \n",
    "    months = [m for m in month_names if m in text]          # Travel Waiver's month(s) \n",
    "    day_and_year = list(map(int, re.findall(r'\\d+', text))) # Regex to get numeric values\n",
    "    year = day_and_year[-1]                                 # Travel Waiver's year \n",
    "\n",
    "    # Condition for Travel Waivers spanning multiple days: ex) 'August 25 - 27'\n",
    "    if len(day_and_year) == 3 and len(months) == 1:\n",
    "        mnth = int(month_names[months[0]])\n",
    "        start_day = day_and_year[0]         # Starting day\n",
    "        end_day = day_and_year[1]           # Ending day\n",
    "\n",
    "        day_range = (datetime(year, mnth, end_day) - datetime(year, mnth, start_day)).days\n",
    "        date_range_list = [(datetime(year, mnth, start_day) + \\\n",
    "                    timedelta(days = d)).strftime('%Y-%m-%d') for d in range(day_range + 1)]\n",
    "        start_date = date_range_list[0]     # Start date in the date range\n",
    "        end_date = date_range_list[-1]      # Last date in the date range\n",
    "\n",
    "        \n",
    "    # Condition for Travel Waivers spanning multiple months: ex) 'September 30 – October 2, 2019'\n",
    "    elif len(day_and_year) == 3 and len(months) == 2:\n",
    "        start_month = int(month_names[months[0]])   # Starting month number \n",
    "        end_month = int(month_names[months[1]])     # Ending month number\n",
    "        start_day = day_and_year[0]                 # Starting day\n",
    "        end_day = day_and_year[1]                   # Ending day\n",
    "                \n",
    "        day_range = (datetime(year, end_month, end_day) - datetime(year, start_month, start_day)).days\n",
    "        date_range_list = [(datetime(year, start_month, start_day) + \\\n",
    "                            timedelta(days = d)).strftime('%Y-%m-%d') for d in range(day_range + 1)]\n",
    "        start_date = date_range_list[0]         # Start date in the date range\n",
    "        end_date = date_range_list[-1]          # Last date in the date range\n",
    "\n",
    "        \n",
    "    # Condition for Travel Waiver that is valid for a single day\n",
    "    else: \n",
    "        mnth = int(month_names[months[0]])\n",
    "        date_range_list = datetime(year, mnth, day_and_year[0]).strftime('%Y-%m-%d')\n",
    "        start_date = date_range_list\n",
    "        end_date = date_range_list\n",
    "        \n",
    "        \n",
    "    return start_date, end_date, date_range_list"
   ]
  },
  {
   "cell_type": "markdown",
   "metadata": {},
   "source": [
    "#### Example output of get_dates() function using the provided email body example"
   ]
  },
  {
   "cell_type": "code",
   "execution_count": 11,
   "metadata": {},
   "outputs": [
    {
     "name": "stdout",
     "output_type": "stream",
     "text": [
      "Date Substring:  September 6 - 7, 2019\n",
      "\n",
      "Result:\n",
      "Start Date: 2019-09-06\n",
      "End Date: 2019-09-07\n",
      "All Dates: ['2019-09-06', '2019-09-07']\n"
     ]
    }
   ],
   "source": [
    "print('Date Substring: {}\\n\\nResult:'.format(string_search(email_body_example, 'd', 'd')))\n",
    "print('Start Date: {}'.format(get_dates(string_search(email_body_example, 'd', 'd'))[0]))\n",
    "print('End Date: {}'.format(get_dates(string_search(email_body_example, 'd', 'd'))[1]))\n",
    "print('All Dates: {}'.format(get_dates(string_search(email_body_example, 'd', 'd'))[2]))"
   ]
  },
  {
   "cell_type": "markdown",
   "metadata": {},
   "source": [
    "# Iterate over Dictionary{} to Create the Cleaned Data Set"
   ]
  },
  {
   "cell_type": "markdown",
   "metadata": {},
   "source": [
    "#### The functions above are called in the iteration below to extract and structure the data "
   ]
  },
  {
   "cell_type": "code",
   "execution_count": 12,
   "metadata": {},
   "outputs": [],
   "source": [
    "for value in travel_waivers:\n",
    "    '''\n",
    "    Iterate over the Travel Waiver Dictionary{}, calling the functions\n",
    "    above to clean and structure the data for output\n",
    "    '''\n",
    "    \n",
    "    # Remove the '\\r\\n' in the email body text\n",
    "    body_text = travel_waivers[value]['email_body']\n",
    "    body_text = body_text.replace('\\n', ' ').replace('\\r', '')\n",
    "\n",
    "    # Call 'clean_title()' function \n",
    "    title_text = travel_waivers[value]['email_title']\n",
    "    event, indicator = clean_title(title_text)\n",
    "    \n",
    "    # Call 'string_search()' function to extract the cities and dates text from the Travel Waiver\n",
    "    cities = string_search(body_text, 'c', 'c')\n",
    "    dates = string_search(body_text, 'd', 'd')\n",
    "    \n",
    "    # Call 'clean_cities()' function to create list of city codes from the Travel Waiver\n",
    "    city_list = clean_cities(cities)\n",
    "    \n",
    "    # Call 'get_dates()' function to get list of dates (YYYY-mm-dd) associated with the Travel Waiver \n",
    "    start, end, all_dates = get_dates(dates)\n",
    "    \n",
    "    # Update dictionary values\n",
    "    travel_waivers[value]['Event'] = event\n",
    "    travel_waivers[value]['Indicator'] = indicator\n",
    "    travel_waivers[value]['email_body'] = body_text\n",
    "    travel_waivers[value]['City'] = city_list\n",
    "    travel_waivers[value]['Start_Date'] = start\n",
    "    travel_waivers[value]['End_Date'] = end\n",
    "    travel_waivers[value]['All_Dates'] = all_dates"
   ]
  },
  {
   "cell_type": "markdown",
   "metadata": {},
   "source": [
    "# Prepare Final Data for Output"
   ]
  },
  {
   "cell_type": "code",
   "execution_count": 13,
   "metadata": {},
   "outputs": [],
   "source": [
    "# Convert the Dictionary with the data to DataFrame\n",
    "travel_waiver_data = pd.DataFrame.from_dict(travel_waivers, orient = 'index')\n",
    "\n",
    "# Drop the columns that contained the original scraped date ['email_title', 'email_body']\n",
    "travel_waiver_data = travel_waiver_data[[\n",
    "    'Date_Sent', \n",
    "    'Event',\n",
    "    'Indicator', \n",
    "    'City',\n",
    "    'Start_Date',\n",
    "    'End_Date',\n",
    "    'All_Dates'\n",
    "    ]]"
   ]
  },
  {
   "cell_type": "code",
   "execution_count": 14,
   "metadata": {
    "scrolled": true
   },
   "outputs": [],
   "source": [
    "# explode() function takes a DataFrame column and creates a new row for each item  \n",
    "travel_waiver_data_expanded = travel_waiver_data.explode('City')\n",
    "travel_waiver_data_expanded = travel_waiver_data_expanded.explode('All_Dates')\n",
    "travel_waiver_data_expanded = travel_waiver_data_expanded.drop_duplicates().reset_index(drop = True)"
   ]
  },
  {
   "cell_type": "markdown",
   "metadata": {},
   "source": [
    "#### Save DataFrame as .csv file"
   ]
  },
  {
   "cell_type": "code",
   "execution_count": 15,
   "metadata": {},
   "outputs": [],
   "source": [
    "today = datetime.now().strftime('%Y%m%d')\n",
    "save_path = 'travel_waivers_' + today + '.csv'\n",
    "travel_waiver_data_expanded.to_csv(save_path, index = False)"
   ]
  },
  {
   "cell_type": "code",
   "execution_count": 16,
   "metadata": {},
   "outputs": [
    {
     "data": {
      "text/html": [
       "<div>\n",
       "<style scoped>\n",
       "    .dataframe tbody tr th:only-of-type {\n",
       "        vertical-align: middle;\n",
       "    }\n",
       "\n",
       "    .dataframe tbody tr th {\n",
       "        vertical-align: top;\n",
       "    }\n",
       "\n",
       "    .dataframe thead th {\n",
       "        text-align: right;\n",
       "    }\n",
       "</style>\n",
       "<table border=\"1\" class=\"dataframe\">\n",
       "  <thead>\n",
       "    <tr style=\"text-align: right;\">\n",
       "      <th></th>\n",
       "      <th>Date_Sent</th>\n",
       "      <th>Event</th>\n",
       "      <th>Indicator</th>\n",
       "      <th>City</th>\n",
       "      <th>Start_Date</th>\n",
       "      <th>End_Date</th>\n",
       "      <th>All_Dates</th>\n",
       "    </tr>\n",
       "  </thead>\n",
       "  <tbody>\n",
       "    <tr>\n",
       "      <td>1958</td>\n",
       "      <td>2018-12-25</td>\n",
       "      <td>Northern Plains Winter Weather</td>\n",
       "      <td>SEV1+</td>\n",
       "      <td>DLH</td>\n",
       "      <td>2018-12-26</td>\n",
       "      <td>2018-12-27</td>\n",
       "      <td>2018-12-26</td>\n",
       "    </tr>\n",
       "    <tr>\n",
       "      <td>1959</td>\n",
       "      <td>2018-12-25</td>\n",
       "      <td>Northern Plains Winter Weather</td>\n",
       "      <td>SEV1+</td>\n",
       "      <td>DLH</td>\n",
       "      <td>2018-12-26</td>\n",
       "      <td>2018-12-27</td>\n",
       "      <td>2018-12-27</td>\n",
       "    </tr>\n",
       "    <tr>\n",
       "      <td>1960</td>\n",
       "      <td>2018-12-25</td>\n",
       "      <td>Northern Plains Winter Weather</td>\n",
       "      <td>SEV1+</td>\n",
       "      <td>DVL</td>\n",
       "      <td>2018-12-26</td>\n",
       "      <td>2018-12-27</td>\n",
       "      <td>2018-12-26</td>\n",
       "    </tr>\n",
       "    <tr>\n",
       "      <td>1961</td>\n",
       "      <td>2018-12-25</td>\n",
       "      <td>Northern Plains Winter Weather</td>\n",
       "      <td>SEV1+</td>\n",
       "      <td>DVL</td>\n",
       "      <td>2018-12-26</td>\n",
       "      <td>2018-12-27</td>\n",
       "      <td>2018-12-27</td>\n",
       "    </tr>\n",
       "    <tr>\n",
       "      <td>1962</td>\n",
       "      <td>2018-12-25</td>\n",
       "      <td>Northern Plains Winter Weather</td>\n",
       "      <td>SEV1+</td>\n",
       "      <td>FAR</td>\n",
       "      <td>2018-12-26</td>\n",
       "      <td>2018-12-27</td>\n",
       "      <td>2018-12-26</td>\n",
       "    </tr>\n",
       "    <tr>\n",
       "      <td>1963</td>\n",
       "      <td>2018-12-25</td>\n",
       "      <td>Northern Plains Winter Weather</td>\n",
       "      <td>SEV1+</td>\n",
       "      <td>FAR</td>\n",
       "      <td>2018-12-26</td>\n",
       "      <td>2018-12-27</td>\n",
       "      <td>2018-12-27</td>\n",
       "    </tr>\n",
       "    <tr>\n",
       "      <td>1964</td>\n",
       "      <td>2018-12-25</td>\n",
       "      <td>Northern Plains Winter Weather</td>\n",
       "      <td>SEV1+</td>\n",
       "      <td>FSD</td>\n",
       "      <td>2018-12-26</td>\n",
       "      <td>2018-12-27</td>\n",
       "      <td>2018-12-26</td>\n",
       "    </tr>\n",
       "    <tr>\n",
       "      <td>1965</td>\n",
       "      <td>2018-12-25</td>\n",
       "      <td>Northern Plains Winter Weather</td>\n",
       "      <td>SEV1+</td>\n",
       "      <td>FSD</td>\n",
       "      <td>2018-12-26</td>\n",
       "      <td>2018-12-27</td>\n",
       "      <td>2018-12-27</td>\n",
       "    </tr>\n",
       "    <tr>\n",
       "      <td>1966</td>\n",
       "      <td>2018-12-25</td>\n",
       "      <td>Northern Plains Winter Weather</td>\n",
       "      <td>SEV1+</td>\n",
       "      <td>ISN</td>\n",
       "      <td>2018-12-26</td>\n",
       "      <td>2018-12-27</td>\n",
       "      <td>2018-12-26</td>\n",
       "    </tr>\n",
       "    <tr>\n",
       "      <td>1967</td>\n",
       "      <td>2018-12-25</td>\n",
       "      <td>Northern Plains Winter Weather</td>\n",
       "      <td>SEV1+</td>\n",
       "      <td>ISN</td>\n",
       "      <td>2018-12-26</td>\n",
       "      <td>2018-12-27</td>\n",
       "      <td>2018-12-27</td>\n",
       "    </tr>\n",
       "    <tr>\n",
       "      <td>1968</td>\n",
       "      <td>2018-12-25</td>\n",
       "      <td>Northern Plains Winter Weather</td>\n",
       "      <td>SEV1+</td>\n",
       "      <td>JMS</td>\n",
       "      <td>2018-12-26</td>\n",
       "      <td>2018-12-27</td>\n",
       "      <td>2018-12-26</td>\n",
       "    </tr>\n",
       "    <tr>\n",
       "      <td>1969</td>\n",
       "      <td>2018-12-25</td>\n",
       "      <td>Northern Plains Winter Weather</td>\n",
       "      <td>SEV1+</td>\n",
       "      <td>JMS</td>\n",
       "      <td>2018-12-26</td>\n",
       "      <td>2018-12-27</td>\n",
       "      <td>2018-12-27</td>\n",
       "    </tr>\n",
       "    <tr>\n",
       "      <td>1970</td>\n",
       "      <td>2018-12-25</td>\n",
       "      <td>Northern Plains Winter Weather</td>\n",
       "      <td>SEV1+</td>\n",
       "      <td>MOT</td>\n",
       "      <td>2018-12-26</td>\n",
       "      <td>2018-12-27</td>\n",
       "      <td>2018-12-26</td>\n",
       "    </tr>\n",
       "    <tr>\n",
       "      <td>1971</td>\n",
       "      <td>2018-12-25</td>\n",
       "      <td>Northern Plains Winter Weather</td>\n",
       "      <td>SEV1+</td>\n",
       "      <td>MOT</td>\n",
       "      <td>2018-12-26</td>\n",
       "      <td>2018-12-27</td>\n",
       "      <td>2018-12-27</td>\n",
       "    </tr>\n",
       "    <tr>\n",
       "      <td>1972</td>\n",
       "      <td>2018-12-25</td>\n",
       "      <td>Northern Plains Winter Weather</td>\n",
       "      <td>SEV1+</td>\n",
       "      <td>RAP</td>\n",
       "      <td>2018-12-26</td>\n",
       "      <td>2018-12-27</td>\n",
       "      <td>2018-12-26</td>\n",
       "    </tr>\n",
       "    <tr>\n",
       "      <td>1973</td>\n",
       "      <td>2018-12-25</td>\n",
       "      <td>Northern Plains Winter Weather</td>\n",
       "      <td>SEV1+</td>\n",
       "      <td>RAP</td>\n",
       "      <td>2018-12-26</td>\n",
       "      <td>2018-12-27</td>\n",
       "      <td>2018-12-27</td>\n",
       "    </tr>\n",
       "    <tr>\n",
       "      <td>1974</td>\n",
       "      <td>2018-12-20</td>\n",
       "      <td>New York Area Inclement Weather</td>\n",
       "      <td>SEV1+</td>\n",
       "      <td>EWR</td>\n",
       "      <td>2018-12-21</td>\n",
       "      <td>2018-12-21</td>\n",
       "      <td>2018-12-21</td>\n",
       "    </tr>\n",
       "    <tr>\n",
       "      <td>1975</td>\n",
       "      <td>2018-12-20</td>\n",
       "      <td>New York Area Inclement Weather</td>\n",
       "      <td>SEV1+</td>\n",
       "      <td>HPN</td>\n",
       "      <td>2018-12-21</td>\n",
       "      <td>2018-12-21</td>\n",
       "      <td>2018-12-21</td>\n",
       "    </tr>\n",
       "    <tr>\n",
       "      <td>1976</td>\n",
       "      <td>2018-12-20</td>\n",
       "      <td>New York Area Inclement Weather</td>\n",
       "      <td>SEV1+</td>\n",
       "      <td>JFK</td>\n",
       "      <td>2018-12-21</td>\n",
       "      <td>2018-12-21</td>\n",
       "      <td>2018-12-21</td>\n",
       "    </tr>\n",
       "    <tr>\n",
       "      <td>1977</td>\n",
       "      <td>2018-12-20</td>\n",
       "      <td>New York Area Inclement Weather</td>\n",
       "      <td>SEV1+</td>\n",
       "      <td>LGA</td>\n",
       "      <td>2018-12-21</td>\n",
       "      <td>2018-12-21</td>\n",
       "      <td>2018-12-21</td>\n",
       "    </tr>\n",
       "  </tbody>\n",
       "</table>\n",
       "</div>"
      ],
      "text/plain": [
       "       Date_Sent                            Event Indicator City  Start_Date  \\\n",
       "1958  2018-12-25   Northern Plains Winter Weather     SEV1+  DLH  2018-12-26   \n",
       "1959  2018-12-25   Northern Plains Winter Weather     SEV1+  DLH  2018-12-26   \n",
       "1960  2018-12-25   Northern Plains Winter Weather     SEV1+  DVL  2018-12-26   \n",
       "1961  2018-12-25   Northern Plains Winter Weather     SEV1+  DVL  2018-12-26   \n",
       "1962  2018-12-25   Northern Plains Winter Weather     SEV1+  FAR  2018-12-26   \n",
       "1963  2018-12-25   Northern Plains Winter Weather     SEV1+  FAR  2018-12-26   \n",
       "1964  2018-12-25   Northern Plains Winter Weather     SEV1+  FSD  2018-12-26   \n",
       "1965  2018-12-25   Northern Plains Winter Weather     SEV1+  FSD  2018-12-26   \n",
       "1966  2018-12-25   Northern Plains Winter Weather     SEV1+  ISN  2018-12-26   \n",
       "1967  2018-12-25   Northern Plains Winter Weather     SEV1+  ISN  2018-12-26   \n",
       "1968  2018-12-25   Northern Plains Winter Weather     SEV1+  JMS  2018-12-26   \n",
       "1969  2018-12-25   Northern Plains Winter Weather     SEV1+  JMS  2018-12-26   \n",
       "1970  2018-12-25   Northern Plains Winter Weather     SEV1+  MOT  2018-12-26   \n",
       "1971  2018-12-25   Northern Plains Winter Weather     SEV1+  MOT  2018-12-26   \n",
       "1972  2018-12-25   Northern Plains Winter Weather     SEV1+  RAP  2018-12-26   \n",
       "1973  2018-12-25   Northern Plains Winter Weather     SEV1+  RAP  2018-12-26   \n",
       "1974  2018-12-20  New York Area Inclement Weather     SEV1+  EWR  2018-12-21   \n",
       "1975  2018-12-20  New York Area Inclement Weather     SEV1+  HPN  2018-12-21   \n",
       "1976  2018-12-20  New York Area Inclement Weather     SEV1+  JFK  2018-12-21   \n",
       "1977  2018-12-20  New York Area Inclement Weather     SEV1+  LGA  2018-12-21   \n",
       "\n",
       "        End_Date   All_Dates  \n",
       "1958  2018-12-27  2018-12-26  \n",
       "1959  2018-12-27  2018-12-27  \n",
       "1960  2018-12-27  2018-12-26  \n",
       "1961  2018-12-27  2018-12-27  \n",
       "1962  2018-12-27  2018-12-26  \n",
       "1963  2018-12-27  2018-12-27  \n",
       "1964  2018-12-27  2018-12-26  \n",
       "1965  2018-12-27  2018-12-27  \n",
       "1966  2018-12-27  2018-12-26  \n",
       "1967  2018-12-27  2018-12-27  \n",
       "1968  2018-12-27  2018-12-26  \n",
       "1969  2018-12-27  2018-12-27  \n",
       "1970  2018-12-27  2018-12-26  \n",
       "1971  2018-12-27  2018-12-27  \n",
       "1972  2018-12-27  2018-12-26  \n",
       "1973  2018-12-27  2018-12-27  \n",
       "1974  2018-12-21  2018-12-21  \n",
       "1975  2018-12-21  2018-12-21  \n",
       "1976  2018-12-21  2018-12-21  \n",
       "1977  2018-12-21  2018-12-21  "
      ]
     },
     "execution_count": 16,
     "metadata": {},
     "output_type": "execute_result"
    }
   ],
   "source": [
    "travel_waiver_data_expanded.tail(20)"
   ]
  },
  {
   "cell_type": "code",
   "execution_count": null,
   "metadata": {},
   "outputs": [],
   "source": []
  }
 ],
 "metadata": {
  "kernelspec": {
   "display_name": "Python 3",
   "language": "python",
   "name": "python3"
  },
  "language_info": {
   "codemirror_mode": {
    "name": "ipython",
    "version": 3
   },
   "file_extension": ".py",
   "mimetype": "text/x-python",
   "name": "python",
   "nbconvert_exporter": "python",
   "pygments_lexer": "ipython3",
   "version": "3.7.4"
  }
 },
 "nbformat": 4,
 "nbformat_minor": 2
}
