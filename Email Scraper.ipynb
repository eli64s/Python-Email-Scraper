{
 "cells": [
  {
   "cell_type": "markdown",
   "metadata": {},
   "source": [
    "# Overview"
   ]
  },
  {
   "cell_type": "markdown",
   "metadata": {},
   "source": [
    "This notebook extracts unstructured data from Microsoft Outlook emails regarding Travel Waivers\n",
    "that United Airlines sends out related to events/weather/etc. that may impact travel. \n",
    "\n",
    "The email data is cleaned and manipulated into a DataFrame that includes the Travel Waiver's\n",
    "date sent, event name, severity level, cities impacted, and dates affected. \n",
    "\n",
    "The code can be broken down into the following 3 sections:\n",
    "\n",
    "    1. Scrape Outlook to collect all Travel Waiver emails\n",
    "    2. Create functions used to parse the email body text \n",
    "    3. Iterate over the Dictionary to create the cleaned dataset\n",
    "\n",
    "Over time, the collection of this data may yield some interesting insights into events that impact travel.\n",
    "Feel free to ask questions or leave suggestions/critique, I love to learn other's approaches to problems!"
   ]
  },
  {
   "cell_type": "markdown",
   "metadata": {},
   "source": [
    "### The image below is an example of the email being scraped and my mailbox had over a year's worth of Travel Waiver emails "
   ]
  },
  {
   "cell_type": "markdown",
   "metadata": {},
   "source": [
    "![TravelWaiverImage](https://raw.githubusercontent.com/eli64s/Python-Email-Scraper/master/travel_waiver.PNG)"
   ]
  },
  {
   "cell_type": "markdown",
   "metadata": {},
   "source": [
    "# Outlook Setup"
   ]
  },
  {
   "cell_type": "code",
   "execution_count": 1,
   "metadata": {},
   "outputs": [],
   "source": [
    "import pandas as pd\n",
    "import win32com.client\n",
    "import re \n",
    "\n",
    "outlook = win32com.client.Dispatch(\"Outlook.Application\").GetNamespace(\"MAPI\")\n",
    "inbox = outlook.GetDefaultFolder(6) # '6' refers to the index of a folder - in this case the Inbox Folder\n",
    "messages = inbox.Items              # Get all items in the Inbox folder"
   ]
  },
  {
   "cell_type": "markdown",
   "metadata": {},
   "source": [
    "### Retrieve Mailbox Messages"
   ]
  },
  {
   "cell_type": "markdown",
   "metadata": {},
   "source": [
    "#### Iterate over the messages in the mailbox, storing the extracted data in a Dictionary "
   ]
  },
  {
   "cell_type": "code",
   "execution_count": 2,
   "metadata": {},
   "outputs": [
    {
     "name": "stdout",
     "output_type": "stream",
     "text": [
      "<unknown>.SenderName\n",
      "<unknown>.SenderName\n",
      "<unknown>.SenderName\n",
      "<unknown>.SenderName\n",
      "<unknown>.SenderName\n",
      "<unknown>.SenderName\n",
      "<unknown>.SenderName\n",
      "<unknown>.SenderName\n",
      "<unknown>.SenderName\n",
      "<unknown>.SenderName\n"
     ]
    }
   ],
   "source": [
    "travel_waivers = {} # Dictionary to store email data - send date, title, body text\n",
    "                    # Iterate over messages, inserting email data belonging to SenderName - 'Travel Waivers'\n",
    "                    # Try/Except statements are used as some emails in the mailbox have an unknown SenderName\n",
    "key_val = 0\n",
    "for message in messages:\n",
    "\n",
    "    try:\n",
    "        if message.SenderName == 'Travel Waivers':\n",
    "            \n",
    "            # Condition to check if a 'Travel Waivers' email is a reply and not an actual waiver\n",
    "            if 'From:' in message.Body:\n",
    "                pass\n",
    "            \n",
    "            else:\n",
    "                # Dictionary to store the scraped data\n",
    "                travel_waivers[key_val] = {\n",
    "                    'Issue_Date': message.SentOn.strftime('%Y-%m-%d'),\n",
    "                    'Event': None,\n",
    "                    'Indicator': None,\n",
    "                    'email_title': message.Subject,\n",
    "                    'email_body': message.Body,\n",
    "                    'City': None,\n",
    "                    'Start_Date': None,\n",
    "                    'End_Date': None,\n",
    "                    'All_Dates': None\n",
    "                }\n",
    "                key_val += 1\n",
    "            \n",
    "    # An Exception occurs when the SenderName is unknown\n",
    "    except Exception as error_message:\n",
    "        print(error_message)"
   ]
  },
  {
   "cell_type": "markdown",
   "metadata": {},
   "source": [
    "# Create Functions to Clean & Extract Data from Email Body String"
   ]
  },
  {
   "cell_type": "markdown",
   "metadata": {},
   "source": [
    "#### Function: Returns event name and severity indicator from the email title"
   ]
  },
  {
   "cell_type": "code",
   "execution_count": 3,
   "metadata": {},
   "outputs": [],
   "source": [
    "def clean_title(text):\n",
    "    '''\n",
    "    Function that takes the email title and extracts the \n",
    "    Travel Waiver event title and severity indicator \n",
    "    '''\n",
    "    \n",
    "    # The event titles are uniform in each email and come after a closing parenthesis \n",
    "    title = text.split(')')[1]    \n",
    "    title = title.split('-')[0]\n",
    "    \n",
    "    # All severity indicators start with '(S' - example) 'SEV1' \n",
    "    ind = text.split()\n",
    "    ind = [i for i in ind if i.startswith('(S')][0]\n",
    "    \n",
    "    # Try/Except to remove the parentheses around indicator - example (SEV1)\n",
    "    try:\n",
    "        ind = ind.replace('(', '')\n",
    "        ind = ind.replace(')', '')\n",
    "    except:\n",
    "        pass\n",
    "    \n",
    "    return title, ind\n",
    "    "
   ]
  },
  {
   "cell_type": "markdown",
   "metadata": {},
   "source": [
    "####  Function: Returns a substring between two words using regular expressions"
   ]
  },
  {
   "cell_type": "code",
   "execution_count": 4,
   "metadata": {},
   "outputs": [],
   "source": [
    "def string_search(text, start_word, end_word):\n",
    "    '''\n",
    "    This function returns a substring between two words \n",
    "    using regular expressions\n",
    "    '''\n",
    "    \n",
    "    # 'c' and 'd' are passed as placeholders to the function when called \n",
    "    # The first condition extracts the text related to the Travel Waiver's impacted cities \n",
    "    if start_word == 'c':\n",
    "        start_word = re.findall(r\"City:|Cities:\", text)[0]                                 # Search text for City:\n",
    "        end_word = re.findall(r\"Travel date:|Travel date\\(s\\):|Travel dates:\", text)[0]    # Search for 'Travel Dates:'\n",
    "\n",
    "    # This condition extracts the text related to the Travel Waiver's date(s) \n",
    "    if end_word == 'd':\n",
    "        start_word = re.findall(r\"Travel date:|Travel date\\(s\\):|Travel dates:\", text)[0]\n",
    "        end_word = re.findall(', \\d{4}', text)[0]             # Regex to find the ', YYYY'\n",
    "        end_word = text.split(end_word, 1)[1]                 # Gets entire string after ', YYYY'\n",
    "\n",
    "    # Use starting and ending word to extract substring relating to the data we want  \n",
    "    substring_data = text[text.find(start_word) + len(start_word): text.rfind(end_word)]\n",
    "   \n",
    "    return substring_data"
   ]
  },
  {
   "cell_type": "markdown",
   "metadata": {},
   "source": [
    "#### Function: Returns a list of the city codes in the given Travel Waiver "
   ]
  },
  {
   "cell_type": "code",
   "execution_count": 5,
   "metadata": {},
   "outputs": [],
   "source": [
    "def clean_cities(text):\n",
    "    '''\n",
    "    This function takes the substring of city codes\n",
    "    that was created from the string_search() function  \n",
    "    An example of a substring:\n",
    "    '*    Cities: CHS / FAY / HHH / ILM / MYR / SAV    *'\n",
    "    Function returns of a list of each 3 character city code\n",
    "    '''\n",
    "    \n",
    "    text.strip('/')                         # Further clean city text - strip '/' that separates each city\n",
    "    city_text = ''.join(ch for ch in text if ch.isalnum())          # Eliminate non-alphanumeric characters\n",
    "    city_text = [city_text[i:i + 3] for i in range(0, len(city_text), 3)]       # Create list of city codes\n",
    "                                                                    \n",
    "    return city_text"
   ]
  },
  {
   "cell_type": "markdown",
   "metadata": {},
   "source": [
    "#### Function: Returns the issued date range for the Travel Waiver"
   ]
  },
  {
   "cell_type": "code",
   "execution_count": 6,
   "metadata": {},
   "outputs": [],
   "source": [
    "from datetime import datetime, timedelta\n",
    "import calendar\n",
    "\n",
    "# List Comphrension that creates tuple of each month number and name to match against the waiver's dates\n",
    "# [()] then converted to {}\n",
    "month_names = [(calendar.month_name[month], n + 1) for n, month in enumerate(range(1,13))]\n",
    "month_names = dict(month_names)\n",
    "\n",
    "\n",
    "def get_dates(text):\n",
    "    '''\n",
    "    This function takes the substring from the string_search() function\n",
    "    to get the Travel Waiver's issued date range\n",
    "    An example of a substring: '(s): December 1, 2019  *     '\n",
    "    This function will return the start and end date, along with\n",
    "    a list of every date in that range, all in YYYY-mm-dd format\n",
    "    '''\n",
    "    \n",
    "    months = [m for m in month_names if m in text]             # Travel Waiver's month(s) as string\n",
    "    day_and_year = list(map(int, re.findall(r'\\d+', text)))    # Regex to find the numeric values in substring\n",
    "    year = day_and_year[-1]                                    # Travel Waiver's Year \n",
    "\n",
    "    # Condition for Travel Waivers spanning multiple days - example: 'August 25 - 27'\n",
    "    if len(day_and_year) == 3 and len(months) == 1:\n",
    "        mnth = int(month_names[months[0]])\n",
    "        start_day = day_and_year[0]                   # Starting day\n",
    "        end_day = day_and_year[1]                     # Ending day\n",
    "\n",
    "        day_range = (datetime(year, mnth, end_day) - datetime(year, mnth, start_day)).days\n",
    "        date_range_list = [(datetime(year, mnth, start_day) + \\\n",
    "                    timedelta(days = d)).strftime('%Y-%m-%d') for d in range(day_range + 1)]\n",
    "        start_date = date_range_list[0]                                 # Start date in the date range\n",
    "        end_date = date_range_list[-1]                                  # Last date in the date range\n",
    "\n",
    "        \n",
    "    # Condition for Travel Waivers spanning multiple months - example: 'September 30 – October 2, 2019'\n",
    "    elif len(day_and_year) == 3 and len(months) == 2:\n",
    "        start_month = int(month_names[months[0]])      # Get month number of starting month \n",
    "        end_month = int(month_names[months[1]])        # Get month number of ending month\n",
    "        start_day = day_and_year[0]                    # Starting day\n",
    "        end_day = day_and_year[1]                      # Ending day\n",
    "                \n",
    "        day_range = (datetime(year, end_month, end_day) - datetime(year, start_month, start_day)).days\n",
    "        date_range_list = [(datetime(year, start_month, start_day) + \\\n",
    "                            timedelta(days = d)).strftime('%Y-%m-%d') for d in range(day_range + 1)]\n",
    "        start_date = date_range_list[0]                                  # Start date in the date range\n",
    "        end_date = date_range_list[-1]                                   # Last date in the date range\n",
    "\n",
    "        \n",
    "    # Condition for Travel Waiver that is valid for a single day\n",
    "    else: \n",
    "        date_range_list = datetime(year, int(month_names[months[0]]), day_and_year[0]).strftime('%Y-%m-%d')\n",
    "        start_date = date_range_list\n",
    "        end_date = date_range_list\n",
    "        \n",
    "        \n",
    "    return start_date, end_date, date_range_list"
   ]
  },
  {
   "cell_type": "markdown",
   "metadata": {},
   "source": [
    "# Iterate over Dictionary to Create the Cleaned Dataset"
   ]
  },
  {
   "cell_type": "markdown",
   "metadata": {},
   "source": [
    "#### The functions above are called in the iteration below to extract and structure the data "
   ]
  },
  {
   "cell_type": "code",
   "execution_count": 7,
   "metadata": {},
   "outputs": [],
   "source": [
    "for value in travel_waivers:\n",
    "    '''\n",
    "    Iterate over the Travel Waiver Dictionary, calling the functions\n",
    "    above to clean and structure the data for output\n",
    "    '''\n",
    "    \n",
    "    # Remove the '\\r\\n' in the email body text\n",
    "    body_text = travel_waivers[value]['email_body']\n",
    "    body_text = body_text.replace('\\n', ' ').replace('\\r', '')\n",
    "\n",
    "    # Call 'clean_title()' function \n",
    "    title_text = travel_waivers[value]['email_title']\n",
    "    event, indicator = clean_title(title_text)\n",
    "    \n",
    "    # Call 'string_search()' function to extract the cities and dates text from the Travel Waiver\n",
    "    cities = string_search(body_text, 'c', 'c')\n",
    "    dates = string_search(body_text, 'd', 'd')\n",
    "    \n",
    "    # Call 'clean_cities()' function to create list of city codes from the Travel Waiver\n",
    "    city_list = clean_cities(cities)\n",
    "    \n",
    "    # Call 'get_dates()' function to get list of dates (YYYY-mm-dd) associated with the Travel Waiver \n",
    "    start, end, all_dates = get_dates(dates)\n",
    "    \n",
    "    # Update dictionary values\n",
    "    travel_waivers[value]['Event'] = event\n",
    "    travel_waivers[value]['Indicator'] = indicator\n",
    "    travel_waivers[value]['email_body'] = body_text\n",
    "    travel_waivers[value]['City'] = city_list\n",
    "    travel_waivers[value]['Start_Date'] = start\n",
    "    travel_waivers[value]['End_Date'] = end\n",
    "    travel_waivers[value]['All_Dates'] = all_dates"
   ]
  },
  {
   "cell_type": "markdown",
   "metadata": {},
   "source": [
    "# Prepare Final Data for Output"
   ]
  },
  {
   "cell_type": "code",
   "execution_count": 8,
   "metadata": {},
   "outputs": [],
   "source": [
    "# Convert the Dictionary with the data to DataFrame\n",
    "travel_waiver_data = pd.DataFrame.from_dict(travel_waivers, orient = 'index')\n",
    "\n",
    "# Drop the columns that contained the original scraped date ['email_title', 'email_body']\n",
    "travel_waiver_data = travel_waiver_data[[\n",
    "    'Issue_Date', \n",
    "    'Event',\n",
    "    'Indicator', \n",
    "    'City',\n",
    "    'Start_Date',\n",
    "    'End_Date',\n",
    "    'All_Dates'\n",
    "    ]]"
   ]
  },
  {
   "cell_type": "code",
   "execution_count": 9,
   "metadata": {
    "scrolled": true
   },
   "outputs": [],
   "source": [
    "# explode() function takes a DataFrame column and creates a new row for each item  \n",
    "travel_waiver_data_expanded = travel_waiver_data.explode('City')\n",
    "travel_waiver_data_expanded = travel_waiver_data_expanded.explode('All_Dates')\n",
    "travel_waiver_data_expanded = travel_waiver_data_expanded.drop_duplicates().reset_index(drop = True)"
   ]
  },
  {
   "cell_type": "markdown",
   "metadata": {},
   "source": [
    "#### Save DataFrame as .txt file"
   ]
  },
  {
   "cell_type": "code",
   "execution_count": 10,
   "metadata": {},
   "outputs": [],
   "source": [
    "today = datetime.now().strftime('%Y%m%d')\n",
    "save_path = 'travel_waivers_' + today + '.csv'\n",
    "travel_waiver_data_expanded.to_csv(save_path, index = False)"
   ]
  },
  {
   "cell_type": "code",
   "execution_count": 11,
   "metadata": {},
   "outputs": [
    {
     "data": {
      "text/html": [
       "<div>\n",
       "<style scoped>\n",
       "    .dataframe tbody tr th:only-of-type {\n",
       "        vertical-align: middle;\n",
       "    }\n",
       "\n",
       "    .dataframe tbody tr th {\n",
       "        vertical-align: top;\n",
       "    }\n",
       "\n",
       "    .dataframe thead th {\n",
       "        text-align: right;\n",
       "    }\n",
       "</style>\n",
       "<table border=\"1\" class=\"dataframe\">\n",
       "  <thead>\n",
       "    <tr style=\"text-align: right;\">\n",
       "      <th></th>\n",
       "      <th>Issue_Date</th>\n",
       "      <th>Event</th>\n",
       "      <th>Indicator</th>\n",
       "      <th>City</th>\n",
       "      <th>Start_Date</th>\n",
       "      <th>End_Date</th>\n",
       "      <th>All_Dates</th>\n",
       "    </tr>\n",
       "  </thead>\n",
       "  <tbody>\n",
       "    <tr>\n",
       "      <td>1963</td>\n",
       "      <td>2018-12-25</td>\n",
       "      <td>Northern Plains Winter Weather</td>\n",
       "      <td>SEV1+</td>\n",
       "      <td>FAR</td>\n",
       "      <td>2018-12-26</td>\n",
       "      <td>2018-12-27</td>\n",
       "      <td>2018-12-27</td>\n",
       "    </tr>\n",
       "    <tr>\n",
       "      <td>1964</td>\n",
       "      <td>2018-12-25</td>\n",
       "      <td>Northern Plains Winter Weather</td>\n",
       "      <td>SEV1+</td>\n",
       "      <td>FSD</td>\n",
       "      <td>2018-12-26</td>\n",
       "      <td>2018-12-27</td>\n",
       "      <td>2018-12-26</td>\n",
       "    </tr>\n",
       "    <tr>\n",
       "      <td>1965</td>\n",
       "      <td>2018-12-25</td>\n",
       "      <td>Northern Plains Winter Weather</td>\n",
       "      <td>SEV1+</td>\n",
       "      <td>FSD</td>\n",
       "      <td>2018-12-26</td>\n",
       "      <td>2018-12-27</td>\n",
       "      <td>2018-12-27</td>\n",
       "    </tr>\n",
       "    <tr>\n",
       "      <td>1966</td>\n",
       "      <td>2018-12-25</td>\n",
       "      <td>Northern Plains Winter Weather</td>\n",
       "      <td>SEV1+</td>\n",
       "      <td>ISN</td>\n",
       "      <td>2018-12-26</td>\n",
       "      <td>2018-12-27</td>\n",
       "      <td>2018-12-26</td>\n",
       "    </tr>\n",
       "    <tr>\n",
       "      <td>1967</td>\n",
       "      <td>2018-12-25</td>\n",
       "      <td>Northern Plains Winter Weather</td>\n",
       "      <td>SEV1+</td>\n",
       "      <td>ISN</td>\n",
       "      <td>2018-12-26</td>\n",
       "      <td>2018-12-27</td>\n",
       "      <td>2018-12-27</td>\n",
       "    </tr>\n",
       "    <tr>\n",
       "      <td>1968</td>\n",
       "      <td>2018-12-25</td>\n",
       "      <td>Northern Plains Winter Weather</td>\n",
       "      <td>SEV1+</td>\n",
       "      <td>JMS</td>\n",
       "      <td>2018-12-26</td>\n",
       "      <td>2018-12-27</td>\n",
       "      <td>2018-12-26</td>\n",
       "    </tr>\n",
       "    <tr>\n",
       "      <td>1969</td>\n",
       "      <td>2018-12-25</td>\n",
       "      <td>Northern Plains Winter Weather</td>\n",
       "      <td>SEV1+</td>\n",
       "      <td>JMS</td>\n",
       "      <td>2018-12-26</td>\n",
       "      <td>2018-12-27</td>\n",
       "      <td>2018-12-27</td>\n",
       "    </tr>\n",
       "    <tr>\n",
       "      <td>1970</td>\n",
       "      <td>2018-12-25</td>\n",
       "      <td>Northern Plains Winter Weather</td>\n",
       "      <td>SEV1+</td>\n",
       "      <td>MOT</td>\n",
       "      <td>2018-12-26</td>\n",
       "      <td>2018-12-27</td>\n",
       "      <td>2018-12-26</td>\n",
       "    </tr>\n",
       "    <tr>\n",
       "      <td>1971</td>\n",
       "      <td>2018-12-25</td>\n",
       "      <td>Northern Plains Winter Weather</td>\n",
       "      <td>SEV1+</td>\n",
       "      <td>MOT</td>\n",
       "      <td>2018-12-26</td>\n",
       "      <td>2018-12-27</td>\n",
       "      <td>2018-12-27</td>\n",
       "    </tr>\n",
       "    <tr>\n",
       "      <td>1972</td>\n",
       "      <td>2018-12-25</td>\n",
       "      <td>Northern Plains Winter Weather</td>\n",
       "      <td>SEV1+</td>\n",
       "      <td>RAP</td>\n",
       "      <td>2018-12-26</td>\n",
       "      <td>2018-12-27</td>\n",
       "      <td>2018-12-26</td>\n",
       "    </tr>\n",
       "    <tr>\n",
       "      <td>1973</td>\n",
       "      <td>2018-12-25</td>\n",
       "      <td>Northern Plains Winter Weather</td>\n",
       "      <td>SEV1+</td>\n",
       "      <td>RAP</td>\n",
       "      <td>2018-12-26</td>\n",
       "      <td>2018-12-27</td>\n",
       "      <td>2018-12-27</td>\n",
       "    </tr>\n",
       "    <tr>\n",
       "      <td>1974</td>\n",
       "      <td>2018-12-20</td>\n",
       "      <td>New York Area Inclement Weather</td>\n",
       "      <td>SEV1+</td>\n",
       "      <td>EWR</td>\n",
       "      <td>2018-12-21</td>\n",
       "      <td>2018-12-21</td>\n",
       "      <td>2018-12-21</td>\n",
       "    </tr>\n",
       "    <tr>\n",
       "      <td>1975</td>\n",
       "      <td>2018-12-20</td>\n",
       "      <td>New York Area Inclement Weather</td>\n",
       "      <td>SEV1+</td>\n",
       "      <td>HPN</td>\n",
       "      <td>2018-12-21</td>\n",
       "      <td>2018-12-21</td>\n",
       "      <td>2018-12-21</td>\n",
       "    </tr>\n",
       "    <tr>\n",
       "      <td>1976</td>\n",
       "      <td>2018-12-20</td>\n",
       "      <td>New York Area Inclement Weather</td>\n",
       "      <td>SEV1+</td>\n",
       "      <td>JFK</td>\n",
       "      <td>2018-12-21</td>\n",
       "      <td>2018-12-21</td>\n",
       "      <td>2018-12-21</td>\n",
       "    </tr>\n",
       "    <tr>\n",
       "      <td>1977</td>\n",
       "      <td>2018-12-20</td>\n",
       "      <td>New York Area Inclement Weather</td>\n",
       "      <td>SEV1+</td>\n",
       "      <td>LGA</td>\n",
       "      <td>2018-12-21</td>\n",
       "      <td>2018-12-21</td>\n",
       "      <td>2018-12-21</td>\n",
       "    </tr>\n",
       "  </tbody>\n",
       "</table>\n",
       "</div>"
      ],
      "text/plain": [
       "      Issue_Date                              Event Indicator City  \\\n",
       "1963  2018-12-25    Northern Plains Winter Weather      SEV1+  FAR   \n",
       "1964  2018-12-25    Northern Plains Winter Weather      SEV1+  FSD   \n",
       "1965  2018-12-25    Northern Plains Winter Weather      SEV1+  FSD   \n",
       "1966  2018-12-25    Northern Plains Winter Weather      SEV1+  ISN   \n",
       "1967  2018-12-25    Northern Plains Winter Weather      SEV1+  ISN   \n",
       "1968  2018-12-25    Northern Plains Winter Weather      SEV1+  JMS   \n",
       "1969  2018-12-25    Northern Plains Winter Weather      SEV1+  JMS   \n",
       "1970  2018-12-25    Northern Plains Winter Weather      SEV1+  MOT   \n",
       "1971  2018-12-25    Northern Plains Winter Weather      SEV1+  MOT   \n",
       "1972  2018-12-25    Northern Plains Winter Weather      SEV1+  RAP   \n",
       "1973  2018-12-25    Northern Plains Winter Weather      SEV1+  RAP   \n",
       "1974  2018-12-20   New York Area Inclement Weather      SEV1+  EWR   \n",
       "1975  2018-12-20   New York Area Inclement Weather      SEV1+  HPN   \n",
       "1976  2018-12-20   New York Area Inclement Weather      SEV1+  JFK   \n",
       "1977  2018-12-20   New York Area Inclement Weather      SEV1+  LGA   \n",
       "\n",
       "      Start_Date    End_Date   All_Dates  \n",
       "1963  2018-12-26  2018-12-27  2018-12-27  \n",
       "1964  2018-12-26  2018-12-27  2018-12-26  \n",
       "1965  2018-12-26  2018-12-27  2018-12-27  \n",
       "1966  2018-12-26  2018-12-27  2018-12-26  \n",
       "1967  2018-12-26  2018-12-27  2018-12-27  \n",
       "1968  2018-12-26  2018-12-27  2018-12-26  \n",
       "1969  2018-12-26  2018-12-27  2018-12-27  \n",
       "1970  2018-12-26  2018-12-27  2018-12-26  \n",
       "1971  2018-12-26  2018-12-27  2018-12-27  \n",
       "1972  2018-12-26  2018-12-27  2018-12-26  \n",
       "1973  2018-12-26  2018-12-27  2018-12-27  \n",
       "1974  2018-12-21  2018-12-21  2018-12-21  \n",
       "1975  2018-12-21  2018-12-21  2018-12-21  \n",
       "1976  2018-12-21  2018-12-21  2018-12-21  \n",
       "1977  2018-12-21  2018-12-21  2018-12-21  "
      ]
     },
     "execution_count": 11,
     "metadata": {},
     "output_type": "execute_result"
    }
   ],
   "source": [
    "travel_waiver_data_expanded.tail(15)"
   ]
  },
  {
   "cell_type": "code",
   "execution_count": null,
   "metadata": {},
   "outputs": [],
   "source": []
  }
 ],
 "metadata": {
  "kernelspec": {
   "display_name": "Python 3",
   "language": "python",
   "name": "python3"
  },
  "language_info": {
   "codemirror_mode": {
    "name": "ipython",
    "version": 3
   },
   "file_extension": ".py",
   "mimetype": "text/x-python",
   "name": "python",
   "nbconvert_exporter": "python",
   "pygments_lexer": "ipython3",
   "version": "3.7.4"
  }
 },
 "nbformat": 4,
 "nbformat_minor": 2
}
